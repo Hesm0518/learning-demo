{
 "cells": [
  {
   "cell_type": "markdown",
   "metadata": {},
   "source": [
    "# 第五次课作业"
   ]
  },
  {
   "cell_type": "markdown",
   "metadata": {},
   "source": [
    "（1）读取数据。读取之前作业保存的“酒店数据1.xlsx”"
   ]
  },
  {
   "cell_type": "code",
   "execution_count": 1,
   "metadata": {},
   "outputs": [],
   "source": [
    "import numpy as np\n",
    "import pandas as pd"
   ]
  },
  {
   "cell_type": "code",
   "execution_count": 4,
   "metadata": {},
   "outputs": [
    {
     "data": {
      "text/html": [
       "<div>\n",
       "<style scoped>\n",
       "    .dataframe tbody tr th:only-of-type {\n",
       "        vertical-align: middle;\n",
       "    }\n",
       "\n",
       "    .dataframe tbody tr th {\n",
       "        vertical-align: top;\n",
       "    }\n",
       "\n",
       "    .dataframe thead th {\n",
       "        text-align: right;\n",
       "    }\n",
       "</style>\n",
       "<table border=\"1\" class=\"dataframe\">\n",
       "  <thead>\n",
       "    <tr style=\"text-align: right;\">\n",
       "      <th></th>\n",
       "      <th>Unnamed: 0</th>\n",
       "      <th>Unnamed: 1</th>\n",
       "      <th>名字</th>\n",
       "      <th>类型</th>\n",
       "      <th>城市</th>\n",
       "      <th>地区</th>\n",
       "      <th>地点</th>\n",
       "      <th>评分</th>\n",
       "      <th>评分人数</th>\n",
       "      <th>价格</th>\n",
       "    </tr>\n",
       "  </thead>\n",
       "  <tbody>\n",
       "    <tr>\n",
       "      <th>0</th>\n",
       "      <td>0</td>\n",
       "      <td>NaN</td>\n",
       "      <td>NaN</td>\n",
       "      <td>NaN</td>\n",
       "      <td>NaN</td>\n",
       "      <td>NaN</td>\n",
       "      <td>NaN</td>\n",
       "      <td>NaN</td>\n",
       "      <td>NaN</td>\n",
       "      <td>NaN</td>\n",
       "    </tr>\n",
       "    <tr>\n",
       "      <th>1</th>\n",
       "      <td>1</td>\n",
       "      <td>0.0</td>\n",
       "      <td>香港嘉湖海逸酒店(Harbour Plaza Resort City)</td>\n",
       "      <td>休闲度假</td>\n",
       "      <td>香港</td>\n",
       "      <td>元朗</td>\n",
       "      <td>天水围 天恩路18号</td>\n",
       "      <td>4.6</td>\n",
       "      <td>17604.0</td>\n",
       "      <td>422.0</td>\n",
       "    </tr>\n",
       "    <tr>\n",
       "      <th>2</th>\n",
       "      <td>2</td>\n",
       "      <td>1.0</td>\n",
       "      <td>香港铜锣湾皇悦酒店(Empire Hotel Hong Kong-Causeway Bay)</td>\n",
       "      <td>浪漫情侣</td>\n",
       "      <td>香港</td>\n",
       "      <td>东区</td>\n",
       "      <td>铜锣湾永兴街8号</td>\n",
       "      <td>4.5</td>\n",
       "      <td>12708.0</td>\n",
       "      <td>693.0</td>\n",
       "    </tr>\n",
       "    <tr>\n",
       "      <th>3</th>\n",
       "      <td>3</td>\n",
       "      <td>2.0</td>\n",
       "      <td>香港碧荟酒店(The BEACON)</td>\n",
       "      <td>商务出行</td>\n",
       "      <td>香港</td>\n",
       "      <td>油尖旺</td>\n",
       "      <td>九龙旺角洗衣街88号</td>\n",
       "      <td>4.7</td>\n",
       "      <td>328.0</td>\n",
       "      <td>747.0</td>\n",
       "    </tr>\n",
       "    <tr>\n",
       "      <th>4</th>\n",
       "      <td>4</td>\n",
       "      <td>3.0</td>\n",
       "      <td>香港湾仔帝盛酒店(Dorsett Wanchai)</td>\n",
       "      <td>浪漫情侣</td>\n",
       "      <td>香港</td>\n",
       "      <td>湾仔</td>\n",
       "      <td>皇后大道东387-397号</td>\n",
       "      <td>4.4</td>\n",
       "      <td>5014.0</td>\n",
       "      <td>693.0</td>\n",
       "    </tr>\n",
       "  </tbody>\n",
       "</table>\n",
       "</div>"
      ],
      "text/plain": [
       "   Unnamed: 0  Unnamed: 1                                              名字  \\\n",
       "0           0         NaN                                             NaN   \n",
       "1           1         0.0             香港嘉湖海逸酒店(Harbour Plaza Resort City)   \n",
       "2           2         1.0  香港铜锣湾皇悦酒店(Empire Hotel Hong Kong-Causeway Bay)   \n",
       "3           3         2.0                              香港碧荟酒店(The BEACON)   \n",
       "4           4         3.0                       香港湾仔帝盛酒店(Dorsett Wanchai)   \n",
       "\n",
       "     类型   城市   地区             地点   评分     评分人数     价格  \n",
       "0   NaN  NaN  NaN            NaN  NaN      NaN    NaN  \n",
       "1  休闲度假   香港   元朗     天水围 天恩路18号  4.6  17604.0  422.0  \n",
       "2  浪漫情侣   香港   东区       铜锣湾永兴街8号  4.5  12708.0  693.0  \n",
       "3  商务出行   香港  油尖旺     九龙旺角洗衣街88号  4.7    328.0  747.0  \n",
       "4  浪漫情侣   香港   湾仔  皇后大道东387-397号  4.4   5014.0  693.0  "
      ]
     },
     "execution_count": 4,
     "metadata": {},
     "output_type": "execute_result"
    }
   ],
   "source": [
    "df = pd.read_excel('酒店数据1.xlsx')\n",
    "df[:5]"
   ]
  },
  {
   "cell_type": "markdown",
   "metadata": {},
   "source": [
    "（2）将“类型”和“名字”设置为层次化索引，并交换索引的位置。然后将层次化索引取消。"
   ]
  },
  {
   "cell_type": "code",
   "execution_count": 34,
   "metadata": {},
   "outputs": [
    {
     "ename": "KeyError",
     "evalue": "\"['Unnamed: 1'] not found in axis\"",
     "output_type": "error",
     "traceback": [
      "\u001b[1;31m---------------------------------------------------------------------------\u001b[0m",
      "\u001b[1;31mKeyError\u001b[0m                                  Traceback (most recent call last)",
      "Input \u001b[1;32mIn [34]\u001b[0m, in \u001b[0;36m<cell line: 5>\u001b[1;34m()\u001b[0m\n\u001b[0;32m      3\u001b[0m d1\u001b[38;5;241m.\u001b[39mreset_index()\n\u001b[0;32m      4\u001b[0m df\u001b[38;5;241m.\u001b[39mdropna(inplace \u001b[38;5;241m=\u001b[39m \u001b[38;5;28;01mTrue\u001b[39;00m)\n\u001b[1;32m----> 5\u001b[0m \u001b[43mdf\u001b[49m\u001b[38;5;241;43m.\u001b[39;49m\u001b[43mdrop\u001b[49m\u001b[43m(\u001b[49m\u001b[38;5;124;43m'\u001b[39;49m\u001b[38;5;124;43mUnnamed: 1\u001b[39;49m\u001b[38;5;124;43m'\u001b[39;49m\u001b[43m,\u001b[49m\u001b[43maxis\u001b[49m\u001b[38;5;241;43m=\u001b[39;49m\u001b[38;5;241;43m1\u001b[39;49m\u001b[43m)\u001b[49m\n",
      "File \u001b[1;32mE:\\an\\lib\\site-packages\\pandas\\util\\_decorators.py:311\u001b[0m, in \u001b[0;36mdeprecate_nonkeyword_arguments.<locals>.decorate.<locals>.wrapper\u001b[1;34m(*args, **kwargs)\u001b[0m\n\u001b[0;32m    305\u001b[0m \u001b[38;5;28;01mif\u001b[39;00m \u001b[38;5;28mlen\u001b[39m(args) \u001b[38;5;241m>\u001b[39m num_allow_args:\n\u001b[0;32m    306\u001b[0m     warnings\u001b[38;5;241m.\u001b[39mwarn(\n\u001b[0;32m    307\u001b[0m         msg\u001b[38;5;241m.\u001b[39mformat(arguments\u001b[38;5;241m=\u001b[39marguments),\n\u001b[0;32m    308\u001b[0m         \u001b[38;5;167;01mFutureWarning\u001b[39;00m,\n\u001b[0;32m    309\u001b[0m         stacklevel\u001b[38;5;241m=\u001b[39mstacklevel,\n\u001b[0;32m    310\u001b[0m     )\n\u001b[1;32m--> 311\u001b[0m \u001b[38;5;28;01mreturn\u001b[39;00m func(\u001b[38;5;241m*\u001b[39margs, \u001b[38;5;241m*\u001b[39m\u001b[38;5;241m*\u001b[39mkwargs)\n",
      "File \u001b[1;32mE:\\an\\lib\\site-packages\\pandas\\core\\frame.py:4954\u001b[0m, in \u001b[0;36mDataFrame.drop\u001b[1;34m(self, labels, axis, index, columns, level, inplace, errors)\u001b[0m\n\u001b[0;32m   4806\u001b[0m \u001b[38;5;129m@deprecate_nonkeyword_arguments\u001b[39m(version\u001b[38;5;241m=\u001b[39m\u001b[38;5;28;01mNone\u001b[39;00m, allowed_args\u001b[38;5;241m=\u001b[39m[\u001b[38;5;124m\"\u001b[39m\u001b[38;5;124mself\u001b[39m\u001b[38;5;124m\"\u001b[39m, \u001b[38;5;124m\"\u001b[39m\u001b[38;5;124mlabels\u001b[39m\u001b[38;5;124m\"\u001b[39m])\n\u001b[0;32m   4807\u001b[0m \u001b[38;5;28;01mdef\u001b[39;00m \u001b[38;5;21mdrop\u001b[39m(\n\u001b[0;32m   4808\u001b[0m     \u001b[38;5;28mself\u001b[39m,\n\u001b[1;32m   (...)\u001b[0m\n\u001b[0;32m   4815\u001b[0m     errors: \u001b[38;5;28mstr\u001b[39m \u001b[38;5;241m=\u001b[39m \u001b[38;5;124m\"\u001b[39m\u001b[38;5;124mraise\u001b[39m\u001b[38;5;124m\"\u001b[39m,\n\u001b[0;32m   4816\u001b[0m ):\n\u001b[0;32m   4817\u001b[0m     \u001b[38;5;124;03m\"\"\"\u001b[39;00m\n\u001b[0;32m   4818\u001b[0m \u001b[38;5;124;03m    Drop specified labels from rows or columns.\u001b[39;00m\n\u001b[0;32m   4819\u001b[0m \n\u001b[1;32m   (...)\u001b[0m\n\u001b[0;32m   4952\u001b[0m \u001b[38;5;124;03m            weight  1.0     0.8\u001b[39;00m\n\u001b[0;32m   4953\u001b[0m \u001b[38;5;124;03m    \"\"\"\u001b[39;00m\n\u001b[1;32m-> 4954\u001b[0m     \u001b[38;5;28;01mreturn\u001b[39;00m \u001b[38;5;28;43msuper\u001b[39;49m\u001b[43m(\u001b[49m\u001b[43m)\u001b[49m\u001b[38;5;241;43m.\u001b[39;49m\u001b[43mdrop\u001b[49m\u001b[43m(\u001b[49m\n\u001b[0;32m   4955\u001b[0m \u001b[43m        \u001b[49m\u001b[43mlabels\u001b[49m\u001b[38;5;241;43m=\u001b[39;49m\u001b[43mlabels\u001b[49m\u001b[43m,\u001b[49m\n\u001b[0;32m   4956\u001b[0m \u001b[43m        \u001b[49m\u001b[43maxis\u001b[49m\u001b[38;5;241;43m=\u001b[39;49m\u001b[43maxis\u001b[49m\u001b[43m,\u001b[49m\n\u001b[0;32m   4957\u001b[0m \u001b[43m        \u001b[49m\u001b[43mindex\u001b[49m\u001b[38;5;241;43m=\u001b[39;49m\u001b[43mindex\u001b[49m\u001b[43m,\u001b[49m\n\u001b[0;32m   4958\u001b[0m \u001b[43m        \u001b[49m\u001b[43mcolumns\u001b[49m\u001b[38;5;241;43m=\u001b[39;49m\u001b[43mcolumns\u001b[49m\u001b[43m,\u001b[49m\n\u001b[0;32m   4959\u001b[0m \u001b[43m        \u001b[49m\u001b[43mlevel\u001b[49m\u001b[38;5;241;43m=\u001b[39;49m\u001b[43mlevel\u001b[49m\u001b[43m,\u001b[49m\n\u001b[0;32m   4960\u001b[0m \u001b[43m        \u001b[49m\u001b[43minplace\u001b[49m\u001b[38;5;241;43m=\u001b[39;49m\u001b[43minplace\u001b[49m\u001b[43m,\u001b[49m\n\u001b[0;32m   4961\u001b[0m \u001b[43m        \u001b[49m\u001b[43merrors\u001b[49m\u001b[38;5;241;43m=\u001b[39;49m\u001b[43merrors\u001b[49m\u001b[43m,\u001b[49m\n\u001b[0;32m   4962\u001b[0m \u001b[43m    \u001b[49m\u001b[43m)\u001b[49m\n",
      "File \u001b[1;32mE:\\an\\lib\\site-packages\\pandas\\core\\generic.py:4267\u001b[0m, in \u001b[0;36mNDFrame.drop\u001b[1;34m(self, labels, axis, index, columns, level, inplace, errors)\u001b[0m\n\u001b[0;32m   4265\u001b[0m \u001b[38;5;28;01mfor\u001b[39;00m axis, labels \u001b[38;5;129;01min\u001b[39;00m axes\u001b[38;5;241m.\u001b[39mitems():\n\u001b[0;32m   4266\u001b[0m     \u001b[38;5;28;01mif\u001b[39;00m labels \u001b[38;5;129;01mis\u001b[39;00m \u001b[38;5;129;01mnot\u001b[39;00m \u001b[38;5;28;01mNone\u001b[39;00m:\n\u001b[1;32m-> 4267\u001b[0m         obj \u001b[38;5;241m=\u001b[39m \u001b[43mobj\u001b[49m\u001b[38;5;241;43m.\u001b[39;49m\u001b[43m_drop_axis\u001b[49m\u001b[43m(\u001b[49m\u001b[43mlabels\u001b[49m\u001b[43m,\u001b[49m\u001b[43m \u001b[49m\u001b[43maxis\u001b[49m\u001b[43m,\u001b[49m\u001b[43m \u001b[49m\u001b[43mlevel\u001b[49m\u001b[38;5;241;43m=\u001b[39;49m\u001b[43mlevel\u001b[49m\u001b[43m,\u001b[49m\u001b[43m \u001b[49m\u001b[43merrors\u001b[49m\u001b[38;5;241;43m=\u001b[39;49m\u001b[43merrors\u001b[49m\u001b[43m)\u001b[49m\n\u001b[0;32m   4269\u001b[0m \u001b[38;5;28;01mif\u001b[39;00m inplace:\n\u001b[0;32m   4270\u001b[0m     \u001b[38;5;28mself\u001b[39m\u001b[38;5;241m.\u001b[39m_update_inplace(obj)\n",
      "File \u001b[1;32mE:\\an\\lib\\site-packages\\pandas\\core\\generic.py:4311\u001b[0m, in \u001b[0;36mNDFrame._drop_axis\u001b[1;34m(self, labels, axis, level, errors, consolidate, only_slice)\u001b[0m\n\u001b[0;32m   4309\u001b[0m         new_axis \u001b[38;5;241m=\u001b[39m axis\u001b[38;5;241m.\u001b[39mdrop(labels, level\u001b[38;5;241m=\u001b[39mlevel, errors\u001b[38;5;241m=\u001b[39merrors)\n\u001b[0;32m   4310\u001b[0m     \u001b[38;5;28;01melse\u001b[39;00m:\n\u001b[1;32m-> 4311\u001b[0m         new_axis \u001b[38;5;241m=\u001b[39m \u001b[43maxis\u001b[49m\u001b[38;5;241;43m.\u001b[39;49m\u001b[43mdrop\u001b[49m\u001b[43m(\u001b[49m\u001b[43mlabels\u001b[49m\u001b[43m,\u001b[49m\u001b[43m \u001b[49m\u001b[43merrors\u001b[49m\u001b[38;5;241;43m=\u001b[39;49m\u001b[43merrors\u001b[49m\u001b[43m)\u001b[49m\n\u001b[0;32m   4312\u001b[0m     indexer \u001b[38;5;241m=\u001b[39m axis\u001b[38;5;241m.\u001b[39mget_indexer(new_axis)\n\u001b[0;32m   4314\u001b[0m \u001b[38;5;66;03m# Case for non-unique axis\u001b[39;00m\n\u001b[0;32m   4315\u001b[0m \u001b[38;5;28;01melse\u001b[39;00m:\n",
      "File \u001b[1;32mE:\\an\\lib\\site-packages\\pandas\\core\\indexes\\base.py:6644\u001b[0m, in \u001b[0;36mIndex.drop\u001b[1;34m(self, labels, errors)\u001b[0m\n\u001b[0;32m   6642\u001b[0m \u001b[38;5;28;01mif\u001b[39;00m mask\u001b[38;5;241m.\u001b[39many():\n\u001b[0;32m   6643\u001b[0m     \u001b[38;5;28;01mif\u001b[39;00m errors \u001b[38;5;241m!=\u001b[39m \u001b[38;5;124m\"\u001b[39m\u001b[38;5;124mignore\u001b[39m\u001b[38;5;124m\"\u001b[39m:\n\u001b[1;32m-> 6644\u001b[0m         \u001b[38;5;28;01mraise\u001b[39;00m \u001b[38;5;167;01mKeyError\u001b[39;00m(\u001b[38;5;124mf\u001b[39m\u001b[38;5;124m\"\u001b[39m\u001b[38;5;132;01m{\u001b[39;00m\u001b[38;5;28mlist\u001b[39m(labels[mask])\u001b[38;5;132;01m}\u001b[39;00m\u001b[38;5;124m not found in axis\u001b[39m\u001b[38;5;124m\"\u001b[39m)\n\u001b[0;32m   6645\u001b[0m     indexer \u001b[38;5;241m=\u001b[39m indexer[\u001b[38;5;241m~\u001b[39mmask]\n\u001b[0;32m   6646\u001b[0m \u001b[38;5;28;01mreturn\u001b[39;00m \u001b[38;5;28mself\u001b[39m\u001b[38;5;241m.\u001b[39mdelete(indexer)\n",
      "\u001b[1;31mKeyError\u001b[0m: \"['Unnamed: 1'] not found in axis\""
     ]
    }
   ],
   "source": [
    "d1 = df.set_index(['类型','名字'])\n",
    "d1.swaplevel('类型','名字')\n",
    "d1.reset_index()\n",
    "df.dropna(inplace = True)\n",
    "df.drop('Unnamed: 1',axis=1)"
   ]
  },
  {
   "cell_type": "code",
   "execution_count": 38,
   "metadata": {},
   "outputs": [
    {
     "data": {
      "text/html": [
       "<div>\n",
       "<style scoped>\n",
       "    .dataframe tbody tr th:only-of-type {\n",
       "        vertical-align: middle;\n",
       "    }\n",
       "\n",
       "    .dataframe tbody tr th {\n",
       "        vertical-align: top;\n",
       "    }\n",
       "\n",
       "    .dataframe thead th {\n",
       "        text-align: right;\n",
       "    }\n",
       "</style>\n",
       "<table border=\"1\" class=\"dataframe\">\n",
       "  <thead>\n",
       "    <tr style=\"text-align: right;\">\n",
       "      <th></th>\n",
       "      <th>名字</th>\n",
       "      <th>类型</th>\n",
       "      <th>城市</th>\n",
       "      <th>地区</th>\n",
       "      <th>地点</th>\n",
       "      <th>评分</th>\n",
       "      <th>评分人数</th>\n",
       "      <th>价格</th>\n",
       "    </tr>\n",
       "  </thead>\n",
       "  <tbody>\n",
       "    <tr>\n",
       "      <th>1</th>\n",
       "      <td>香港嘉湖海逸酒店(Harbour Plaza Resort City)</td>\n",
       "      <td>休闲度假</td>\n",
       "      <td>香港</td>\n",
       "      <td>元朗</td>\n",
       "      <td>天水围 天恩路18号</td>\n",
       "      <td>4.6</td>\n",
       "      <td>17604.0</td>\n",
       "      <td>422.0</td>\n",
       "    </tr>\n",
       "    <tr>\n",
       "      <th>2</th>\n",
       "      <td>香港铜锣湾皇悦酒店(Empire Hotel Hong Kong-Causeway Bay)</td>\n",
       "      <td>浪漫情侣</td>\n",
       "      <td>香港</td>\n",
       "      <td>东区</td>\n",
       "      <td>铜锣湾永兴街8号</td>\n",
       "      <td>4.5</td>\n",
       "      <td>12708.0</td>\n",
       "      <td>693.0</td>\n",
       "    </tr>\n",
       "    <tr>\n",
       "      <th>3</th>\n",
       "      <td>香港碧荟酒店(The BEACON)</td>\n",
       "      <td>商务出行</td>\n",
       "      <td>香港</td>\n",
       "      <td>油尖旺</td>\n",
       "      <td>九龙旺角洗衣街88号</td>\n",
       "      <td>4.7</td>\n",
       "      <td>328.0</td>\n",
       "      <td>747.0</td>\n",
       "    </tr>\n",
       "    <tr>\n",
       "      <th>4</th>\n",
       "      <td>香港湾仔帝盛酒店(Dorsett Wanchai)</td>\n",
       "      <td>浪漫情侣</td>\n",
       "      <td>香港</td>\n",
       "      <td>湾仔</td>\n",
       "      <td>皇后大道东387-397号</td>\n",
       "      <td>4.4</td>\n",
       "      <td>5014.0</td>\n",
       "      <td>693.0</td>\n",
       "    </tr>\n",
       "    <tr>\n",
       "      <th>5</th>\n",
       "      <td>如心艾朗酒店(L‘hotel elan)</td>\n",
       "      <td>浪漫情侣</td>\n",
       "      <td>香港</td>\n",
       "      <td>观塘</td>\n",
       "      <td>观塘创业街38号</td>\n",
       "      <td>4.6</td>\n",
       "      <td>3427.0</td>\n",
       "      <td>581.0</td>\n",
       "    </tr>\n",
       "    <tr>\n",
       "      <th>...</th>\n",
       "      <td>...</td>\n",
       "      <td>...</td>\n",
       "      <td>...</td>\n",
       "      <td>...</td>\n",
       "      <td>...</td>\n",
       "      <td>...</td>\n",
       "      <td>...</td>\n",
       "      <td>...</td>\n",
       "    </tr>\n",
       "    <tr>\n",
       "      <th>408</th>\n",
       "      <td>香港捷舒旅(Just Hotel)</td>\n",
       "      <td>地铁周边</td>\n",
       "      <td>香港</td>\n",
       "      <td>油尖旺</td>\n",
       "      <td>尖沙咀金巴利道27-33号永利大厦F座4楼</td>\n",
       "      <td>3.8</td>\n",
       "      <td>183.0</td>\n",
       "      <td>888.0</td>\n",
       "    </tr>\n",
       "    <tr>\n",
       "      <th>416</th>\n",
       "      <td>香港天天宾馆(TIN TIN GUEST HOUSE)</td>\n",
       "      <td>地铁周边</td>\n",
       "      <td>香港</td>\n",
       "      <td>油尖旺</td>\n",
       "      <td>旺角弥敦道607号新兴大厦1517A</td>\n",
       "      <td>3.2</td>\n",
       "      <td>16.0</td>\n",
       "      <td>227.0</td>\n",
       "    </tr>\n",
       "    <tr>\n",
       "      <th>418</th>\n",
       "      <td>香港如心海景酒店暨会议中心(L‘hotel Nina et Convention Centre)</td>\n",
       "      <td>海滨风光</td>\n",
       "      <td>香港</td>\n",
       "      <td>荃湾</td>\n",
       "      <td>荃湾 杨屋道8号</td>\n",
       "      <td>4.5</td>\n",
       "      <td>45462.0</td>\n",
       "      <td>709.0</td>\n",
       "    </tr>\n",
       "    <tr>\n",
       "      <th>419</th>\n",
       "      <td>香港如心海景酒店暨会议中心(L‘hotel Nina et Convention Centre)</td>\n",
       "      <td>海滨风光</td>\n",
       "      <td>香港</td>\n",
       "      <td>荃湾</td>\n",
       "      <td>荃湾 杨屋道8号</td>\n",
       "      <td>4.5</td>\n",
       "      <td>45463.0</td>\n",
       "      <td>709.0</td>\n",
       "    </tr>\n",
       "    <tr>\n",
       "      <th>420</th>\n",
       "      <td>香港花盈酒店(家庭旅馆)(Bloomy Hotel)</td>\n",
       "      <td>地铁周边</td>\n",
       "      <td>香港</td>\n",
       "      <td>油尖旺</td>\n",
       "      <td>尖沙咀弥敦道87号华源大厦9字楼C2室</td>\n",
       "      <td>4.0</td>\n",
       "      <td>273.0</td>\n",
       "      <td>256.0</td>\n",
       "    </tr>\n",
       "  </tbody>\n",
       "</table>\n",
       "<p>318 rows × 8 columns</p>\n",
       "</div>"
      ],
      "text/plain": [
       "                                                   名字    类型  城市   地区  \\\n",
       "1                 香港嘉湖海逸酒店(Harbour Plaza Resort City)  休闲度假  香港   元朗   \n",
       "2      香港铜锣湾皇悦酒店(Empire Hotel Hong Kong-Causeway Bay)  浪漫情侣  香港   东区   \n",
       "3                                  香港碧荟酒店(The BEACON)  商务出行  香港  油尖旺   \n",
       "4                           香港湾仔帝盛酒店(Dorsett Wanchai)  浪漫情侣  香港   湾仔   \n",
       "5                                如心艾朗酒店(L‘hotel elan)  浪漫情侣  香港   观塘   \n",
       "..                                                ...   ...  ..  ...   \n",
       "408                                 香港捷舒旅(Just Hotel)  地铁周边  香港  油尖旺   \n",
       "416                       香港天天宾馆(TIN TIN GUEST HOUSE)  地铁周边  香港  油尖旺   \n",
       "418  香港如心海景酒店暨会议中心(L‘hotel Nina et Convention Centre)  海滨风光  香港   荃湾   \n",
       "419  香港如心海景酒店暨会议中心(L‘hotel Nina et Convention Centre)  海滨风光  香港   荃湾   \n",
       "420                        香港花盈酒店(家庭旅馆)(Bloomy Hotel)  地铁周边  香港  油尖旺   \n",
       "\n",
       "                        地点   评分     评分人数     价格  \n",
       "1               天水围 天恩路18号  4.6  17604.0  422.0  \n",
       "2                 铜锣湾永兴街8号  4.5  12708.0  693.0  \n",
       "3               九龙旺角洗衣街88号  4.7    328.0  747.0  \n",
       "4            皇后大道东387-397号  4.4   5014.0  693.0  \n",
       "5                 观塘创业街38号  4.6   3427.0  581.0  \n",
       "..                     ...  ...      ...    ...  \n",
       "408  尖沙咀金巴利道27-33号永利大厦F座4楼  3.8    183.0  888.0  \n",
       "416     旺角弥敦道607号新兴大厦1517A  3.2     16.0  227.0  \n",
       "418               荃湾 杨屋道8号  4.5  45462.0  709.0  \n",
       "419               荃湾 杨屋道8号  4.5  45463.0  709.0  \n",
       "420    尖沙咀弥敦道87号华源大厦9字楼C2室  4.0    273.0  256.0  \n",
       "\n",
       "[318 rows x 8 columns]"
      ]
     },
     "execution_count": 38,
     "metadata": {},
     "output_type": "execute_result"
    }
   ],
   "source": [
    "d1.reset_index()\n",
    "df"
   ]
  },
  {
   "cell_type": "markdown",
   "metadata": {},
   "source": [
    "（3）将数据集转置，获取转制后的index和columns。"
   ]
  },
  {
   "cell_type": "code",
   "execution_count": 42,
   "metadata": {},
   "outputs": [
    {
     "data": {
      "text/plain": [
       "Int64Index([  1,   2,   3,   4,   5,   6,   7,   8,   9,  10,\n",
       "            ...\n",
       "            383, 387, 388, 396, 403, 408, 416, 418, 419, 420],\n",
       "           dtype='int64', length=318)"
      ]
     },
     "execution_count": 42,
     "metadata": {},
     "output_type": "execute_result"
    }
   ],
   "source": [
    "d2 = df.T\n",
    "d2.index\n",
    "d2.columns"
   ]
  },
  {
   "cell_type": "markdown",
   "metadata": {},
   "source": [
    "（4）用Groupby方法来计算每个地区的评分人数的总和以及均值。"
   ]
  },
  {
   "cell_type": "code",
   "execution_count": 44,
   "metadata": {},
   "outputs": [
    {
     "data": {
      "text/plain": [
       "地区\n",
       "东区       62.8\n",
       "中西区     150.1\n",
       "九龙城      89.3\n",
       "元朗        9.1\n",
       "南区       17.3\n",
       "屯门        9.2\n",
       "沙田       18.3\n",
       "油尖旺     716.3\n",
       "深水埗区      4.3\n",
       "湾仔      179.4\n",
       "离岛       40.9\n",
       "荃湾       31.1\n",
       "葵青       16.8\n",
       "观塘       27.3\n",
       "Name: 评分, dtype: float64"
      ]
     },
     "execution_count": 44,
     "metadata": {},
     "output_type": "execute_result"
    }
   ],
   "source": [
    "grouped = df['评分'].groupby(df.地区)\n",
    "grouped.sum()"
   ]
  },
  {
   "cell_type": "code",
   "execution_count": 45,
   "metadata": {},
   "outputs": [
    {
     "data": {
      "text/plain": [
       "地区\n",
       "东区      4.485714\n",
       "中西区     4.548485\n",
       "九龙城     4.465000\n",
       "元朗      4.550000\n",
       "南区      4.325000\n",
       "屯门      4.600000\n",
       "沙田      4.575000\n",
       "油尖旺     4.188889\n",
       "深水埗区    4.300000\n",
       "湾仔      4.375610\n",
       "离岛      4.544444\n",
       "荃湾      4.442857\n",
       "葵青      4.200000\n",
       "观塘      4.550000\n",
       "Name: 评分, dtype: float64"
      ]
     },
     "execution_count": 45,
     "metadata": {},
     "output_type": "execute_result"
    }
   ],
   "source": [
    "grouped.mean()"
   ]
  },
  {
   "cell_type": "markdown",
   "metadata": {},
   "source": [
    "（5）用Grouby方法计算每个类型的平均价格，最高价和最低价。"
   ]
  },
  {
   "cell_type": "code",
   "execution_count": 47,
   "metadata": {},
   "outputs": [
    {
     "data": {
      "text/plain": [
       "类型\n",
       "交通方便      421.000000\n",
       "亲子酒店      745.400000\n",
       "休闲度假     1127.774194\n",
       "商务出行     1045.153846\n",
       "地铁周边      387.282258\n",
       "客栈        395.000000\n",
       "干净卫生      185.000000\n",
       "民宿        157.000000\n",
       "浪漫情侣      614.000000\n",
       "海滨风光     1543.573770\n",
       "火车站周边     968.000000\n",
       "环境不错      448.500000\n",
       "老板热情      385.000000\n",
       "酒店公寓     1182.000000\n",
       "青年旅舍      189.250000\n",
       "Name: 价格, dtype: float64"
      ]
     },
     "execution_count": 47,
     "metadata": {},
     "output_type": "execute_result"
    }
   ],
   "source": [
    "group1 = df['价格'].groupby(df.类型)\n",
    "group1.mean()"
   ]
  },
  {
   "cell_type": "code",
   "execution_count": 48,
   "metadata": {},
   "outputs": [
    {
     "data": {
      "text/plain": [
       "类型\n",
       "交通方便       421.0\n",
       "亲子酒店      1686.0\n",
       "休闲度假      4443.0\n",
       "商务出行      3159.0\n",
       "地铁周边      2640.0\n",
       "客栈         395.0\n",
       "干净卫生       185.0\n",
       "民宿         157.0\n",
       "浪漫情侣      1908.0\n",
       "海滨风光     12926.0\n",
       "火车站周边      968.0\n",
       "环境不错       484.0\n",
       "老板热情       385.0\n",
       "酒店公寓      2309.0\n",
       "青年旅舍       348.0\n",
       "Name: 价格, dtype: float64"
      ]
     },
     "execution_count": 48,
     "metadata": {},
     "output_type": "execute_result"
    }
   ],
   "source": [
    "group1.max()"
   ]
  },
  {
   "cell_type": "code",
   "execution_count": 49,
   "metadata": {},
   "outputs": [
    {
     "data": {
      "text/plain": [
       "类型\n",
       "交通方便     421.0\n",
       "亲子酒店     269.0\n",
       "休闲度假     358.0\n",
       "商务出行     401.0\n",
       "地铁周边      67.0\n",
       "客栈       395.0\n",
       "干净卫生     185.0\n",
       "民宿       157.0\n",
       "浪漫情侣     225.0\n",
       "海滨风光     331.0\n",
       "火车站周边    968.0\n",
       "环境不错     413.0\n",
       "老板热情     385.0\n",
       "酒店公寓     588.0\n",
       "青年旅舍      70.0\n",
       "Name: 价格, dtype: float64"
      ]
     },
     "execution_count": 49,
     "metadata": {},
     "output_type": "execute_result"
    }
   ],
   "source": [
    "group1.min()"
   ]
  },
  {
   "cell_type": "markdown",
   "metadata": {},
   "source": [
    "（6）数据离散化，按照价格将酒店分为3个等级,0-500为C，500-1000为B,大于1000为A，列名设置为“价格等级”。"
   ]
  },
  {
   "cell_type": "code",
   "execution_count": 53,
   "metadata": {},
   "outputs": [
    {
     "data": {
      "text/html": [
       "<div>\n",
       "<style scoped>\n",
       "    .dataframe tbody tr th:only-of-type {\n",
       "        vertical-align: middle;\n",
       "    }\n",
       "\n",
       "    .dataframe tbody tr th {\n",
       "        vertical-align: top;\n",
       "    }\n",
       "\n",
       "    .dataframe thead th {\n",
       "        text-align: right;\n",
       "    }\n",
       "</style>\n",
       "<table border=\"1\" class=\"dataframe\">\n",
       "  <thead>\n",
       "    <tr style=\"text-align: right;\">\n",
       "      <th></th>\n",
       "      <th>名字</th>\n",
       "      <th>类型</th>\n",
       "      <th>城市</th>\n",
       "      <th>地区</th>\n",
       "      <th>地点</th>\n",
       "      <th>评分</th>\n",
       "      <th>评分人数</th>\n",
       "      <th>价格</th>\n",
       "      <th>评分等级</th>\n",
       "    </tr>\n",
       "  </thead>\n",
       "  <tbody>\n",
       "    <tr>\n",
       "      <th>1</th>\n",
       "      <td>香港嘉湖海逸酒店(Harbour Plaza Resort City)</td>\n",
       "      <td>休闲度假</td>\n",
       "      <td>香港</td>\n",
       "      <td>元朗</td>\n",
       "      <td>天水围 天恩路18号</td>\n",
       "      <td>4.6</td>\n",
       "      <td>17604.0</td>\n",
       "      <td>422.0</td>\n",
       "      <td>C</td>\n",
       "    </tr>\n",
       "    <tr>\n",
       "      <th>2</th>\n",
       "      <td>香港铜锣湾皇悦酒店(Empire Hotel Hong Kong-Causeway Bay)</td>\n",
       "      <td>浪漫情侣</td>\n",
       "      <td>香港</td>\n",
       "      <td>东区</td>\n",
       "      <td>铜锣湾永兴街8号</td>\n",
       "      <td>4.5</td>\n",
       "      <td>12708.0</td>\n",
       "      <td>693.0</td>\n",
       "      <td>B</td>\n",
       "    </tr>\n",
       "    <tr>\n",
       "      <th>3</th>\n",
       "      <td>香港碧荟酒店(The BEACON)</td>\n",
       "      <td>商务出行</td>\n",
       "      <td>香港</td>\n",
       "      <td>油尖旺</td>\n",
       "      <td>九龙旺角洗衣街88号</td>\n",
       "      <td>4.7</td>\n",
       "      <td>328.0</td>\n",
       "      <td>747.0</td>\n",
       "      <td>B</td>\n",
       "    </tr>\n",
       "    <tr>\n",
       "      <th>4</th>\n",
       "      <td>香港湾仔帝盛酒店(Dorsett Wanchai)</td>\n",
       "      <td>浪漫情侣</td>\n",
       "      <td>香港</td>\n",
       "      <td>湾仔</td>\n",
       "      <td>皇后大道东387-397号</td>\n",
       "      <td>4.4</td>\n",
       "      <td>5014.0</td>\n",
       "      <td>693.0</td>\n",
       "      <td>B</td>\n",
       "    </tr>\n",
       "    <tr>\n",
       "      <th>5</th>\n",
       "      <td>如心艾朗酒店(L‘hotel elan)</td>\n",
       "      <td>浪漫情侣</td>\n",
       "      <td>香港</td>\n",
       "      <td>观塘</td>\n",
       "      <td>观塘创业街38号</td>\n",
       "      <td>4.6</td>\n",
       "      <td>3427.0</td>\n",
       "      <td>581.0</td>\n",
       "      <td>B</td>\n",
       "    </tr>\n",
       "    <tr>\n",
       "      <th>...</th>\n",
       "      <td>...</td>\n",
       "      <td>...</td>\n",
       "      <td>...</td>\n",
       "      <td>...</td>\n",
       "      <td>...</td>\n",
       "      <td>...</td>\n",
       "      <td>...</td>\n",
       "      <td>...</td>\n",
       "      <td>...</td>\n",
       "    </tr>\n",
       "    <tr>\n",
       "      <th>408</th>\n",
       "      <td>香港捷舒旅(Just Hotel)</td>\n",
       "      <td>地铁周边</td>\n",
       "      <td>香港</td>\n",
       "      <td>油尖旺</td>\n",
       "      <td>尖沙咀金巴利道27-33号永利大厦F座4楼</td>\n",
       "      <td>3.8</td>\n",
       "      <td>183.0</td>\n",
       "      <td>888.0</td>\n",
       "      <td>B</td>\n",
       "    </tr>\n",
       "    <tr>\n",
       "      <th>416</th>\n",
       "      <td>香港天天宾馆(TIN TIN GUEST HOUSE)</td>\n",
       "      <td>地铁周边</td>\n",
       "      <td>香港</td>\n",
       "      <td>油尖旺</td>\n",
       "      <td>旺角弥敦道607号新兴大厦1517A</td>\n",
       "      <td>3.2</td>\n",
       "      <td>16.0</td>\n",
       "      <td>227.0</td>\n",
       "      <td>C</td>\n",
       "    </tr>\n",
       "    <tr>\n",
       "      <th>418</th>\n",
       "      <td>香港如心海景酒店暨会议中心(L‘hotel Nina et Convention Centre)</td>\n",
       "      <td>海滨风光</td>\n",
       "      <td>香港</td>\n",
       "      <td>荃湾</td>\n",
       "      <td>荃湾 杨屋道8号</td>\n",
       "      <td>4.5</td>\n",
       "      <td>45462.0</td>\n",
       "      <td>709.0</td>\n",
       "      <td>B</td>\n",
       "    </tr>\n",
       "    <tr>\n",
       "      <th>419</th>\n",
       "      <td>香港如心海景酒店暨会议中心(L‘hotel Nina et Convention Centre)</td>\n",
       "      <td>海滨风光</td>\n",
       "      <td>香港</td>\n",
       "      <td>荃湾</td>\n",
       "      <td>荃湾 杨屋道8号</td>\n",
       "      <td>4.5</td>\n",
       "      <td>45463.0</td>\n",
       "      <td>709.0</td>\n",
       "      <td>B</td>\n",
       "    </tr>\n",
       "    <tr>\n",
       "      <th>420</th>\n",
       "      <td>香港花盈酒店(家庭旅馆)(Bloomy Hotel)</td>\n",
       "      <td>地铁周边</td>\n",
       "      <td>香港</td>\n",
       "      <td>油尖旺</td>\n",
       "      <td>尖沙咀弥敦道87号华源大厦9字楼C2室</td>\n",
       "      <td>4.0</td>\n",
       "      <td>273.0</td>\n",
       "      <td>256.0</td>\n",
       "      <td>C</td>\n",
       "    </tr>\n",
       "  </tbody>\n",
       "</table>\n",
       "<p>318 rows × 9 columns</p>\n",
       "</div>"
      ],
      "text/plain": [
       "                                                   名字    类型  城市   地区  \\\n",
       "1                 香港嘉湖海逸酒店(Harbour Plaza Resort City)  休闲度假  香港   元朗   \n",
       "2      香港铜锣湾皇悦酒店(Empire Hotel Hong Kong-Causeway Bay)  浪漫情侣  香港   东区   \n",
       "3                                  香港碧荟酒店(The BEACON)  商务出行  香港  油尖旺   \n",
       "4                           香港湾仔帝盛酒店(Dorsett Wanchai)  浪漫情侣  香港   湾仔   \n",
       "5                                如心艾朗酒店(L‘hotel elan)  浪漫情侣  香港   观塘   \n",
       "..                                                ...   ...  ..  ...   \n",
       "408                                 香港捷舒旅(Just Hotel)  地铁周边  香港  油尖旺   \n",
       "416                       香港天天宾馆(TIN TIN GUEST HOUSE)  地铁周边  香港  油尖旺   \n",
       "418  香港如心海景酒店暨会议中心(L‘hotel Nina et Convention Centre)  海滨风光  香港   荃湾   \n",
       "419  香港如心海景酒店暨会议中心(L‘hotel Nina et Convention Centre)  海滨风光  香港   荃湾   \n",
       "420                        香港花盈酒店(家庭旅馆)(Bloomy Hotel)  地铁周边  香港  油尖旺   \n",
       "\n",
       "                        地点   评分     评分人数     价格 评分等级  \n",
       "1               天水围 天恩路18号  4.6  17604.0  422.0    C  \n",
       "2                 铜锣湾永兴街8号  4.5  12708.0  693.0    B  \n",
       "3               九龙旺角洗衣街88号  4.7    328.0  747.0    B  \n",
       "4            皇后大道东387-397号  4.4   5014.0  693.0    B  \n",
       "5                 观塘创业街38号  4.6   3427.0  581.0    B  \n",
       "..                     ...  ...      ...    ...  ...  \n",
       "408  尖沙咀金巴利道27-33号永利大厦F座4楼  3.8    183.0  888.0    B  \n",
       "416     旺角弥敦道607号新兴大厦1517A  3.2     16.0  227.0    C  \n",
       "418               荃湾 杨屋道8号  4.5  45462.0  709.0    B  \n",
       "419               荃湾 杨屋道8号  4.5  45463.0  709.0    B  \n",
       "420    尖沙咀弥敦道87号华源大厦9字楼C2室  4.0    273.0  256.0    C  \n",
       "\n",
       "[318 rows x 9 columns]"
      ]
     },
     "execution_count": 53,
     "metadata": {},
     "output_type": "execute_result"
    }
   ],
   "source": [
    "df['评分等级'] = pd.cut(df['价格'],[0,500,1000,1500],labels = ['C','B','A'],right = False)\n",
    "df"
   ]
  },
  {
   "cell_type": "markdown",
   "metadata": {},
   "source": [
    "（7）获取评分均值最高和最低的地区的数据，分别使用append和concat方法将获取的两个数据集合并。"
   ]
  },
  {
   "cell_type": "code",
   "execution_count": null,
   "metadata": {},
   "outputs": [],
   "source": []
  },
  {
   "cell_type": "markdown",
   "metadata": {},
   "source": [
    "（8）数据离散化，按照评分人数将酒店平均分为3个等级，三个等级的酒店数量尽量保持一致。评分人数最多的为A，最少的为C。列名设置为“热门等级”。"
   ]
  },
  {
   "cell_type": "markdown",
   "metadata": {},
   "source": [
    "（9）选出评分人数为A，价格也为A的酒店数据，计算其平均评分。"
   ]
  },
  {
   "cell_type": "markdown",
   "metadata": {},
   "source": [
    "（10）取价格最高的5个酒店的数据，使用stack和unstack方法实现dataframe和Series之间的转换。"
   ]
  },
  {
   "cell_type": "markdown",
   "metadata": {},
   "source": [
    "（11）纵向拆分数据集，分为df1和df2，df1包含名字，类型，城市，地区，df2包含名字，地点，评分，评分人数，价格，价格等级，热门等级。"
   ]
  },
  {
   "cell_type": "markdown",
   "metadata": {},
   "source": [
    "（12）将df2按照价格进行排序，重新设置df2的索引。索引值等于价格排名。"
   ]
  },
  {
   "cell_type": "markdown",
   "metadata": {},
   "source": [
    "（13）使用merge方法将df1和df2合并。"
   ]
  },
  {
   "cell_type": "markdown",
   "metadata": {},
   "source": [
    "（14）将合并后的数据集保存数据到“酒店数据2.xlsx”。"
   ]
  }
 ],
 "metadata": {
  "kernelspec": {
   "display_name": "Python 3 (ipykernel)",
   "language": "python",
   "name": "python3"
  },
  "language_info": {
   "codemirror_mode": {
    "name": "ipython",
    "version": 3
   },
   "file_extension": ".py",
   "mimetype": "text/x-python",
   "name": "python",
   "nbconvert_exporter": "python",
   "pygments_lexer": "ipython3",
   "version": "3.9.12"
  }
 },
 "nbformat": 4,
 "nbformat_minor": 2
}
