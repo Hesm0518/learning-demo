{
 "cells": [
  {
   "cell_type": "markdown",
   "metadata": {},
   "source": [
    "# 第六次课作业"
   ]
  },
  {
   "cell_type": "code",
   "execution_count": 9,
   "metadata": {},
   "outputs": [],
   "source": [
    "import numpy as np\n",
    "import pandas as pd\n",
    "import matplotlib.pyplot as plt"
   ]
  },
  {
   "cell_type": "markdown",
   "metadata": {},
   "source": [
    "（1）画出$y=x^{2}+2x+1$在区间[-5,3]的函数图像。"
   ]
  },
  {
   "cell_type": "code",
   "execution_count": 8,
   "metadata": {},
   "outputs": [
    {
     "data": {
      "image/png": "[encoded data removed]",
      "text/plain": [
       "<Figure size 432x288 with 1 Axes>"
      ]
     },
     "metadata": {
      "needs_background": "light"
     },
     "output_type": "display_data"
    }
   ],
   "source": [
    "x = np.linspace(-5,3)\n",
    "plt.plot(x,x**2+2*x+1)\n",
    "plt.show()"
   ]
  },
  {
   "cell_type": "markdown",
   "metadata": {},
   "source": [
    "（2）在同一张图中创建两个子图，分别画出sinx和cosx在[-3.14,3.14]上的函数图像。设置线条宽度为2.5."
   ]
  },
  {
   "cell_type": "code",
   "execution_count": 10,
   "metadata": {},
   "outputs": [
    {
     "data": {
      "image/png": "[encoded data removed]",
      "text/plain": [
       "<Figure size 432x288 with 1 Axes>"
      ]
     },
     "metadata": {
      "needs_background": "light"
     },
     "output_type": "display_data"
    },
    {
     "data": {
      "text/plain": [
       "[<matplotlib.lines.Line2D at 0x22d7aa624f0>]"
      ]
     },
     "execution_count": 10,
     "metadata": {},
     "output_type": "execute_result"
    },
    {
     "data": {
      "image/png": "[encoded data removed]",
      "text/plain": [
       "<Figure size 432x288 with 1 Axes>"
      ]
     },
     "metadata": {
      "needs_background": "light"
     },
     "output_type": "display_data"
    }
   ],
   "source": [
    "x = np.linspace(-3.14,3.14)\n",
    "plt.subplot(211)\n",
    "plt.plot(x, np.sin(x), lw=2.5)\n",
    "plt.show()\n",
    "plt.subplot(212)\n",
    "plt.plot(x, np.cos(x), lw=2.5)"
   ]
  },
  {
   "cell_type": "markdown",
   "metadata": {},
   "source": [
    "（3）读取上次作业保存的酒店数据，画出每个地区酒店数量的柱状图，柱状颜色为红色"
   ]
  },
  {
   "cell_type": "code",
   "execution_count": 11,
   "metadata": {},
   "outputs": [
    {
     "data": {
      "text/html": [
       "<div>\n",
       "<style scoped>\n",
       "    .dataframe tbody tr th:only-of-type {\n",
       "        vertical-align: middle;\n",
       "    }\n",
       "\n",
       "    .dataframe tbody tr th {\n",
       "        vertical-align: top;\n",
       "    }\n",
       "\n",
       "    .dataframe thead th {\n",
       "        text-align: right;\n",
       "    }\n",
       "</style>\n",
       "<table border=\"1\" class=\"dataframe\">\n",
       "  <thead>\n",
       "    <tr style=\"text-align: right;\">\n",
       "      <th></th>\n",
       "      <th>Unnamed: 0</th>\n",
       "      <th>Unnamed: 1</th>\n",
       "      <th>名字</th>\n",
       "      <th>类型</th>\n",
       "      <th>城市</th>\n",
       "      <th>地区</th>\n",
       "      <th>地点</th>\n",
       "      <th>评分</th>\n",
       "      <th>评分人数</th>\n",
       "      <th>价格</th>\n",
       "    </tr>\n",
       "  </thead>\n",
       "  <tbody>\n",
       "    <tr>\n",
       "      <th>0</th>\n",
       "      <td>0</td>\n",
       "      <td>NaN</td>\n",
       "      <td>NaN</td>\n",
       "      <td>NaN</td>\n",
       "      <td>NaN</td>\n",
       "      <td>NaN</td>\n",
       "      <td>NaN</td>\n",
       "      <td>NaN</td>\n",
       "      <td>NaN</td>\n",
       "      <td>NaN</td>\n",
       "    </tr>\n",
       "    <tr>\n",
       "      <th>1</th>\n",
       "      <td>1</td>\n",
       "      <td>0.0</td>\n",
       "      <td>香港嘉湖海逸酒店(Harbour Plaza Resort City)</td>\n",
       "      <td>休闲度假</td>\n",
       "      <td>香港</td>\n",
       "      <td>元朗</td>\n",
       "      <td>天水围 天恩路18号</td>\n",
       "      <td>4.6</td>\n",
       "      <td>17604.0</td>\n",
       "      <td>422.0</td>\n",
       "    </tr>\n",
       "    <tr>\n",
       "      <th>2</th>\n",
       "      <td>2</td>\n",
       "      <td>1.0</td>\n",
       "      <td>香港铜锣湾皇悦酒店(Empire Hotel Hong Kong-Causeway Bay)</td>\n",
       "      <td>浪漫情侣</td>\n",
       "      <td>香港</td>\n",
       "      <td>东区</td>\n",
       "      <td>铜锣湾永兴街8号</td>\n",
       "      <td>4.5</td>\n",
       "      <td>12708.0</td>\n",
       "      <td>693.0</td>\n",
       "    </tr>\n",
       "    <tr>\n",
       "      <th>3</th>\n",
       "      <td>3</td>\n",
       "      <td>2.0</td>\n",
       "      <td>香港碧荟酒店(The BEACON)</td>\n",
       "      <td>商务出行</td>\n",
       "      <td>香港</td>\n",
       "      <td>油尖旺</td>\n",
       "      <td>九龙旺角洗衣街88号</td>\n",
       "      <td>4.7</td>\n",
       "      <td>328.0</td>\n",
       "      <td>747.0</td>\n",
       "    </tr>\n",
       "    <tr>\n",
       "      <th>4</th>\n",
       "      <td>4</td>\n",
       "      <td>3.0</td>\n",
       "      <td>香港湾仔帝盛酒店(Dorsett Wanchai)</td>\n",
       "      <td>浪漫情侣</td>\n",
       "      <td>香港</td>\n",
       "      <td>湾仔</td>\n",
       "      <td>皇后大道东387-397号</td>\n",
       "      <td>4.4</td>\n",
       "      <td>5014.0</td>\n",
       "      <td>693.0</td>\n",
       "    </tr>\n",
       "    <tr>\n",
       "      <th>...</th>\n",
       "      <td>...</td>\n",
       "      <td>...</td>\n",
       "      <td>...</td>\n",
       "      <td>...</td>\n",
       "      <td>...</td>\n",
       "      <td>...</td>\n",
       "      <td>...</td>\n",
       "      <td>...</td>\n",
       "      <td>...</td>\n",
       "      <td>...</td>\n",
       "    </tr>\n",
       "    <tr>\n",
       "      <th>416</th>\n",
       "      <td>416</td>\n",
       "      <td>415.0</td>\n",
       "      <td>香港天天宾馆(TIN TIN GUEST HOUSE)</td>\n",
       "      <td>地铁周边</td>\n",
       "      <td>香港</td>\n",
       "      <td>油尖旺</td>\n",
       "      <td>旺角弥敦道607号新兴大厦1517A</td>\n",
       "      <td>3.2</td>\n",
       "      <td>16.0</td>\n",
       "      <td>227.0</td>\n",
       "    </tr>\n",
       "    <tr>\n",
       "      <th>417</th>\n",
       "      <td>417</td>\n",
       "      <td>416.0</td>\n",
       "      <td>香港AMR宾馆(AMR Hostel)</td>\n",
       "      <td>地铁周边</td>\n",
       "      <td>香港</td>\n",
       "      <td>NaN</td>\n",
       "      <td>尖沙咀弥敦道58号美丽都大厦6字楼A12室</td>\n",
       "      <td>NaN</td>\n",
       "      <td>NaN</td>\n",
       "      <td>977.0</td>\n",
       "    </tr>\n",
       "    <tr>\n",
       "      <th>418</th>\n",
       "      <td>418</td>\n",
       "      <td>417.0</td>\n",
       "      <td>香港如心海景酒店暨会议中心(L‘hotel Nina et Convention Centre)</td>\n",
       "      <td>海滨风光</td>\n",
       "      <td>香港</td>\n",
       "      <td>荃湾</td>\n",
       "      <td>荃湾 杨屋道8号</td>\n",
       "      <td>4.5</td>\n",
       "      <td>45462.0</td>\n",
       "      <td>709.0</td>\n",
       "    </tr>\n",
       "    <tr>\n",
       "      <th>419</th>\n",
       "      <td>419</td>\n",
       "      <td>418.0</td>\n",
       "      <td>香港如心海景酒店暨会议中心(L‘hotel Nina et Convention Centre)</td>\n",
       "      <td>海滨风光</td>\n",
       "      <td>香港</td>\n",
       "      <td>荃湾</td>\n",
       "      <td>荃湾 杨屋道8号</td>\n",
       "      <td>4.5</td>\n",
       "      <td>45463.0</td>\n",
       "      <td>709.0</td>\n",
       "    </tr>\n",
       "    <tr>\n",
       "      <th>420</th>\n",
       "      <td>420</td>\n",
       "      <td>419.0</td>\n",
       "      <td>香港花盈酒店(家庭旅馆)(Bloomy Hotel)</td>\n",
       "      <td>地铁周边</td>\n",
       "      <td>香港</td>\n",
       "      <td>油尖旺</td>\n",
       "      <td>尖沙咀弥敦道87号华源大厦9字楼C2室</td>\n",
       "      <td>4.0</td>\n",
       "      <td>273.0</td>\n",
       "      <td>256.0</td>\n",
       "    </tr>\n",
       "  </tbody>\n",
       "</table>\n",
       "<p>421 rows × 10 columns</p>\n",
       "</div>"
      ],
      "text/plain": [
       "     Unnamed: 0  Unnamed: 1                                                名字  \\\n",
       "0             0         NaN                                               NaN   \n",
       "1             1         0.0               香港嘉湖海逸酒店(Harbour Plaza Resort City)   \n",
       "2             2         1.0    香港铜锣湾皇悦酒店(Empire Hotel Hong Kong-Causeway Bay)   \n",
       "3             3         2.0                                香港碧荟酒店(The BEACON)   \n",
       "4             4         3.0                         香港湾仔帝盛酒店(Dorsett Wanchai)   \n",
       "..          ...         ...                                               ...   \n",
       "416         416       415.0                       香港天天宾馆(TIN TIN GUEST HOUSE)   \n",
       "417         417       416.0                               香港AMR宾馆(AMR Hostel)   \n",
       "418         418       417.0  香港如心海景酒店暨会议中心(L‘hotel Nina et Convention Centre)   \n",
       "419         419       418.0  香港如心海景酒店暨会议中心(L‘hotel Nina et Convention Centre)   \n",
       "420         420       419.0                        香港花盈酒店(家庭旅馆)(Bloomy Hotel)   \n",
       "\n",
       "       类型   城市   地区                     地点   评分     评分人数     价格  \n",
       "0     NaN  NaN  NaN                    NaN  NaN      NaN    NaN  \n",
       "1    休闲度假   香港   元朗             天水围 天恩路18号  4.6  17604.0  422.0  \n",
       "2    浪漫情侣   香港   东区               铜锣湾永兴街8号  4.5  12708.0  693.0  \n",
       "3    商务出行   香港  油尖旺             九龙旺角洗衣街88号  4.7    328.0  747.0  \n",
       "4    浪漫情侣   香港   湾仔          皇后大道东387-397号  4.4   5014.0  693.0  \n",
       "..    ...  ...  ...                    ...  ...      ...    ...  \n",
       "416  地铁周边   香港  油尖旺     旺角弥敦道607号新兴大厦1517A  3.2     16.0  227.0  \n",
       "417  地铁周边   香港  NaN  尖沙咀弥敦道58号美丽都大厦6字楼A12室  NaN      NaN  977.0  \n",
       "418  海滨风光   香港   荃湾               荃湾 杨屋道8号  4.5  45462.0  709.0  \n",
       "419  海滨风光   香港   荃湾               荃湾 杨屋道8号  4.5  45463.0  709.0  \n",
       "420  地铁周边   香港  油尖旺    尖沙咀弥敦道87号华源大厦9字楼C2室  4.0    273.0  256.0  \n",
       "\n",
       "[421 rows x 10 columns]"
      ]
     },
     "execution_count": 11,
     "metadata": {},
     "output_type": "execute_result"
    }
   ],
   "source": [
    "df = pd.read_excel('酒店数据1.xlsx')\n",
    "df"
   ]
  },
  {
   "cell_type": "code",
   "execution_count": 14,
   "metadata": {},
   "outputs": [],
   "source": [
    "plt.rcParams['font.sans-serif']=['SimHei'] # 用来显示中文标签\n",
    "plt.rcParams['axes.unicode_minus']=False # 用来显示负号"
   ]
  },
  {
   "cell_type": "markdown",
   "metadata": {},
   "source": [
    "（4）画出每个价格等级酒店数量的柱状图。"
   ]
  },
  {
   "cell_type": "markdown",
   "metadata": {},
   "source": [
    "（5）画出各个价格等级占比的饼图。"
   ]
  },
  {
   "cell_type": "markdown",
   "metadata": {},
   "source": [
    "（6）画出酒店评分的直方图。"
   ]
  },
  {
   "cell_type": "markdown",
   "metadata": {},
   "source": [
    "（7）画出每个热门等级酒店评分均值的柱状图。（按照评分均值从小到大排序。）"
   ]
  },
  {
   "cell_type": "code",
   "execution_count": null,
   "metadata": {
    "collapsed": true
   },
   "outputs": [],
   "source": []
  }
 ],
 "metadata": {
  "kernelspec": {
   "display_name": "Python 3 (ipykernel)",
   "language": "python",
   "name": "python3"
  },
  "language_info": {
   "codemirror_mode": {
    "name": "ipython",
    "version": 3
   },
   "file_extension": ".py",
   "mimetype": "text/x-python",
   "name": "python",
   "nbconvert_exporter": "python",
   "pygments_lexer": "ipython3",
   "version": "3.9.12"
  }
 },
 "nbformat": 4,
 "nbformat_minor": 2
}
